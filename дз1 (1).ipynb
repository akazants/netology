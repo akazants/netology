{
 "cells": [
  {
   "cell_type": "code",
   "execution_count": 4,
   "id": "bright-blade",
   "metadata": {},
   "outputs": [
    {
     "name": "stdout",
     "output_type": "stream",
     "text": [
      "Фраза 1 длиннее фразы 2\n"
     ]
    }
   ],
   "source": [
    "phrase_1 =  \"Насколько проще было бы писать программы, если бы не заказчики\"\n",
    "phrase_2 = \"640Кб должно хватить для любых задач. Билл Гейтс (по легенде)\"\n",
    "if len(phrase_1) > len(phrase_2) :\n",
    "    print(\"Фраза 1 длиннее фразы 2\")\n",
    "elif:\n",
    "    len(phrase_2) > len(phrase_1):\n",
    "        print(\"Фраза 2 длиннее фразы 1\")\n",
    "else:\n",
    "    print(\"Фразы равной длины\")\n",
    "    \n",
    "    \n",
    "\n",
    "    "
   ]
  },
  {
   "cell_type": "code",
   "execution_count": 42,
   "id": "precise-italy",
   "metadata": {},
   "outputs": [
    {
     "name": "stdout",
     "output_type": "stream",
     "text": [
      "Високосный год\n"
     ]
    }
   ],
   "source": [
    "year = 1980\n",
    "if year % 4 != 0:\n",
    "    print(\"Обычный год\") \n",
    "else:\n",
    "    if year % 100 != 0:\n",
    "        print(\"Високосный год\")\n",
    "    else:\n",
    "        if year % 400 == 0:\n",
    "            print(\"Високосный год\")\n",
    "        else:\n",
    "            print(\"Обычный год\")"
   ]
  },
  {
   "cell_type": "code",
   "execution_count": 48,
   "id": "mature-insight",
   "metadata": {},
   "outputs": [
    {
     "name": "stdout",
     "output_type": "stream",
     "text": [
      "Введите день19\n",
      "Введите месяцМарт\n",
      "Результат:\n",
      "Ваш знак зодиака: Рыбы\n"
     ]
    }
   ],
   "source": [
    "day = int(input(\"Введите день\"))  \n",
    "month = input(\"Введите месяц\")\n",
    "\n",
    "print(\"Результат:\")\n",
    "if (month == \"Февраль\" and day >= 20 and day <= 29) or (month == \"Март\" and day >= 1 and day <= 20):\n",
    "    print(\"Ваш знак зодиака: Рыбы\")\n",
    "elif (month == \"Март\" and day >= 21 and day <= 31) or (month == \"Апрель\" and day >= 1 and day <= 19):\n",
    "            print(\"Ваш знак зодиака: Овен\")\n",
    "elif (month == \"Апрель\" and day >= 20 and day <= 30) or (month == \"Май\" and day >= 1 and day <= 20):\n",
    "            print(\"Ваш знак зодиака: Телец\")    \n",
    "elif (month == \"Май\" and day >= 21 and day <= 31) or (month == \"Июнь\" and day >= 1 and day <= 20):\n",
    "            print(\"Ваш знак зодиака: Близнецы\") \n",
    "elif (month == \"Июнь\" and day >= 21 and day <= 30) or (month == \"Июль\" and day >= 1 and day <= 22):\n",
    "            print(\"Ваш знак зодиака: Рак\") \n",
    "elif (month == \"Июль\" and day >= 23 and day <= 31) or (month == \"Август\" and day >= 1 and day <= 22):\n",
    "            print(\"Ваш знак зодиака: Лев\") \n",
    "elif (month == \"Август\" and day >= 23 and day <= 31) or (month == \"Сентябрь\" and day >= 1 and day <= 22):\n",
    "            print(\"Ваш знак зодиака: Дева\") \n",
    "elif (month == \"Сентябрь\" and day >= 23 and day <= 30) or (month == \"Октябрь\" and day >= 1 and day <= 23):\n",
    "            print(\"Ваш знак зодиака: Весы\") \n",
    "elif (month == \"Октябрь\" and day >= 24 and day <= 31) or (month == \"Ноябрь\" and day >= 1 and day <= 22):\n",
    "            print(\"Ваш знак зодиака: Скорпион\") \n",
    "elif (month == \"Ноябрь\" and day >= 23 and day <= 30) or (month == \"Декабрь\" and day >= 1 and day <= 21):\n",
    "            print(\"Ваш знак зодиака: Стрелец\") \n",
    "elif (month == \"Декабрь\" and day >= 21 and day <= 31) or (month == \"Январь\" and day >= 1 and day <= 19):\n",
    "            print(\"Ваш знак зодиака: Козерог\")  \n",
    "elif (month == \"Январь\" and day >= 20 and day <= 30) or (month == \"Февраль\" and day >= 1 and day <= 19):\n",
    "            print(\"Ваш знак зодиака: Водолей\")         \n",
    "else:\n",
    "    print (\"Месяц написан неправильно, пиши так: Март\")"
   ]
  },
  {
   "cell_type": "code",
   "execution_count": 51,
   "id": "affecting-sugar",
   "metadata": {},
   "outputs": [
    {
     "name": "stdout",
     "output_type": "stream",
     "text": [
      "Упаковка для лыж\n"
     ]
    }
   ],
   "source": [
    "width = 45\n",
    "length = 205\n",
    "height = 45\n",
    "if length > 200:\n",
    "    print(\"Упаковка для лыж\")\n",
    "elif  (width > 15 and width < 50) or   (length > 15 and length < 50) or (height > 15 and height < 50):\n",
    "    print(\"Коробка №2\")\n",
    "elif width < 15 and length < 15 and height < 15 :\n",
    "    print(\"Коробка №1\")\n",
    "else:\n",
    "    print(\"Стандартная коробка №3\")"
   ]
  },
  {
   "cell_type": "code",
   "execution_count": 22,
   "id": "exposed-classics",
   "metadata": {},
   "outputs": [
    {
     "name": "stdout",
     "output_type": "stream",
     "text": [
      "Результат\n",
      "Cчастливый билет\n"
     ]
    }
   ],
   "source": [
    "number = 123123\n",
    "str_number = str(number)\n",
    "print(\"Результат\")\n",
    "if int(str_number[0]) + int(str_number[1]) + int(str_number[2]) == int(str_number[3]) + int(str_number[4]) + int(str_number[5]):\n",
    "    print(\"Cчастливый билет\")\n",
    "else:\n",
    "    print(\"Несчастливый билет\")"
   ]
  },
  {
   "cell_type": "code",
   "execution_count": 55,
   "id": "least-surfing",
   "metadata": {},
   "outputs": [
    {
     "name": "stdout",
     "output_type": "stream",
     "text": [
      "Введите тип фигурытреугольник\n",
      "Введите длину стороны А 2\n",
      "Введите длину стороны B 2\n",
      "Введите длину стороны С 3\n",
      "Площадь треугольника =\n",
      "1.984313483298443\n"
     ]
    }
   ],
   "source": [
    "figure = input(\"Введите тип фигуры\")  \n",
    "if figure == \"круг\":\n",
    "    rad = int(input(\"Введите радиус круга \"))\n",
    "    sq = 3.14 * (rad**2)\n",
    "    print(\"Площадь круга =\")\n",
    "    print(sq) \n",
    "elif figure == \"прямоугольник\":\n",
    "    len_a = int( nput(\"Введите длину стороны А \"))\n",
    "    len_b = int(input(\"Введите длину стороны B \"))\n",
    "    sq = len_a * len_b\n",
    "    print(\"Площадь прямоугольника =\")\n",
    "    print(sq)\n",
    "elif figure == \"треугольник\":\n",
    "    len_a = int(input(\"Введите длину стороны А \"))\n",
    "    len_b = int(input(\"Введите длину стороны B \"))\n",
    "    len_c = int(input(\"Введите длину стороны С \")) \n",
    "    semiperimetr=(len_a+len_b+len_c)/2\n",
    "    sq=(semiperimetr * (semiperimetr-len_a) * (semiperimetr-len_b) * (semiperimetr-len_c))**(1/2)\n",
    "    print(\"Площадь треугольника =\")\n",
    "    print(sq)\n",
    "else:\n",
    "    print(\"фигура не в списке\")\n",
    "    \n",
    "    "
   ]
  }
 ],
 "metadata": {
  "kernelspec": {
   "display_name": "Python 3",
   "language": "python",
   "name": "python3"
  },
  "language_info": {
   "codemirror_mode": {
    "name": "ipython",
    "version": 3
   },
   "file_extension": ".py",
   "mimetype": "text/x-python",
   "name": "python",
   "nbconvert_exporter": "python",
   "pygments_lexer": "ipython3",
   "version": "3.8.5"
  }
 },
 "nbformat": 4,
 "nbformat_minor": 5
}
