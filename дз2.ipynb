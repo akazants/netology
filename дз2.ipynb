{
 "cells": [
  {
   "cell_type": "code",
   "execution_count": 23,
   "id": "inner-cambodia",
   "metadata": {},
   "outputs": [
    {
     "name": "stdout",
     "output_type": "stream",
     "text": [
      "es\n"
     ]
    }
   ],
   "source": [
    "word = \"test\"\n",
    "if len(word)%2 == 0:\n",
    "    k=int(len(word)/2-1)\n",
    "    l=k+2\n",
    "    print(word[k:l])\n",
    "else:\n",
    "    k= len(word)%2-1\n",
    "    l=k+1\n",
    "    print(word[k:l])\n",
    "    \n",
    " "
   ]
  },
  {
   "cell_type": "code",
   "execution_count": 50,
   "id": "concrete-interface",
   "metadata": {},
   "outputs": [
    {
     "name": "stdout",
     "output_type": "stream",
     "text": [
      "Введите число:\n",
      "0\n",
      "Результат:\n",
      "0\n"
     ]
    }
   ],
   "source": [
    "k=0\n",
    "print(\"Введите число:\")\n",
    "a = int(input())\n",
    "while a != 0:\n",
    "    if a != 0:\n",
    "        k = k+a\n",
    "    print(\"Введите число:\")    \n",
    "    a = int(input())\n",
    "else:\n",
    "    print(\"Результат:\")\n",
    "    print(k)\n",
    "\n"
   ]
  },
  {
   "cell_type": "code",
   "execution_count": 82,
   "id": "described-edward",
   "metadata": {},
   "outputs": [
    {
     "name": "stdout",
     "output_type": "stream",
     "text": [
      "Результат:\n",
      "Внимание, кто-то может остаться без пары!\n"
     ]
    }
   ],
   "source": [
    "boys = [\"Peter\", \"Alex\", \"John\", \"Arthur\"]\n",
    "girls = [\"Kate\", \"Liza\", \"Kira\", \"Emma\", \"Trisha\"]\n",
    "an = \" и \"\n",
    "print(\"Результат:\")\n",
    "if len(boys)==len(girls):\n",
    "            print(\"Идеальные пары:\")\n",
    "            for i in range(len(boys)):\n",
    "                  print(sorted(boys)[i] +an + sorted(girls)[i])\n",
    "            \n",
    "else:\n",
    "    print(\"Внимание, кто-то может остаться без пары!\")\n"
   ]
  },
  {
   "cell_type": "code",
   "execution_count": 126,
   "id": "collaborative-defensive",
   "metadata": {},
   "outputs": [
    {
     "name": "stdout",
     "output_type": "stream",
     "text": [
      "Средняя температура в странах:\n",
      "Thailand - 23.9 C\n",
      "Germany - 13.8 C\n",
      "Russia - 3.7 C\n",
      "Poland - 12.0 C\n"
     ]
    }
   ],
   "source": [
    "countries_temperature = [\n",
    "[\"Thailand\", [75.2, 77, 78.8, 73.4, 68, 75.2, 77]],\n",
    "[\"Germany\", [57.2, 55.4, 59, 59, 53.6]],\n",
    "[\"Russia\", [35.6, 37.4, 39.2, 41, 42.8, 39.2, 35.6]],\n",
    "[\"Poland\", [50, 50, 53.6, 57.2, 55.4, 55.4]]\n",
    "]\n",
    "print(\"Средняя температура в странах:\")\n",
    "mid = \" - \"\n",
    "cels = \" C\"\n",
    "for i in range(len(countries_temperature)):\n",
    "    sum=0\n",
    "    head = countries_temperature[i][0]\n",
    "    for k in range(len(countries_temperature[i][1])):\n",
    "             sum = sum +(countries_temperature[i][1][k] - 32)*(5/9)\n",
    "             average = str(round(sum/len(countries_temperature[i][1]),1))      \n",
    "    print(head+mid+average+cels)        "
   ]
  },
  {
   "cell_type": "code",
   "execution_count": 154,
   "id": "breathing-thought",
   "metadata": {},
   "outputs": [
    {
     "name": "stdout",
     "output_type": "stream",
     "text": [
      " Среднее количество просмотров на уникального пользователя: 23.25\n"
     ]
    }
   ],
   "source": [
    "stream = [\n",
    "\"2018-01-01,user1,3\",\n",
    "\"2018-01-07,user1,4\",\n",
    "\"2018-03-29,user1,1\",\n",
    "\"2018-04-04,user1,13\",\n",
    "\"2018-01-05,user2,7\",\n",
    "\"2018-06-14,user3,4\",\n",
    "\"2018-07-02,user3,10\",\n",
    "\"2018-03-21,user4,19\",\n",
    "\"2018-03-22,user4,4\",\n",
    "\"2018-04-22,user4,8\",\n",
    "\"2018-05-03,user4,9\",\n",
    "\"2018-05-11,user4,11\",\n",
    "]\n",
    "sum = 0\n",
    "kk = \"\"\n",
    "tt = 0\n",
    "for i in range(len(stream)):\n",
    "    sum = sum + int(stream[i][17:])\n",
    "    if stream[i][11:16] not in kk:\n",
    "          tt = tt+1\n",
    "          kk = kk+ stream[i][11:16]\n",
    "res = sum/tt        \n",
    "print(f\" Среднее количество просмотров на уникального пользователя: {res}\")  \n"
   ]
  },
  {
   "cell_type": "code",
   "execution_count": 172,
   "id": "elect-livestock",
   "metadata": {},
   "outputs": [
    {
     "name": "stdout",
     "output_type": "stream",
     "text": [
      "Введите числа:\n",
      "1 1 1 1 1 2 2 2\n",
      "Результат:\n",
      "12\n"
     ]
    }
   ],
   "source": [
    "print(\"Введите числа:\")\n",
    "a = input()\n",
    "b = a.split()\n",
    "b = ''.join(b)\n",
    "pp = \"\"\n",
    "for i in range(len(b)):\n",
    "    if b.count(b[i])>1:\n",
    "        if b[i] not in pp:\n",
    "            pp = pp + b[i]\n",
    "print(\"Результат:\")        \n",
    "print(pp)        "
   ]
  }
 ],
 "metadata": {
  "kernelspec": {
   "display_name": "Python 3",
   "language": "python",
   "name": "python3"
  },
  "language_info": {
   "codemirror_mode": {
    "name": "ipython",
    "version": 3
   },
   "file_extension": ".py",
   "mimetype": "text/x-python",
   "name": "python",
   "nbconvert_exporter": "python",
   "pygments_lexer": "ipython3",
   "version": "3.8.5"
  }
 },
 "nbformat": 4,
 "nbformat_minor": 5
}
