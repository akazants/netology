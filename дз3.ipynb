{
 "cells": [
  {
   "cell_type": "code",
   "execution_count": 26,
   "id": "provincial-violin",
   "metadata": {},
   "outputs": [
    {
     "name": "stdout",
     "output_type": "stream",
     "text": [
      "{98, 35, 15, 213, 54, 119}\n"
     ]
    }
   ],
   "source": [
    "ids = {\"user1\": [213, 213, 213, 15, 213],\n",
    "\"user2\": [54, 54, 119, 119, 119],\n",
    "\"user3\": [213, 98, 98, 35]}\n",
    "pp = []\n",
    "for item in ids.values():\n",
    "         for iitem in item:\n",
    "            pp.append(iitem)\n",
    "kk=set(pp)            \n",
    "print(kk)\n"
   ]
  },
  {
   "cell_type": "code",
   "execution_count": 225,
   "id": "packed-victim",
   "metadata": {},
   "outputs": [
    {
     "name": "stdout",
     "output_type": "stream",
     "text": [
      " Поисковых запросов, содержащих 2 слов(а):42.86%\n",
      " Поисковых запросов, содержащих 3 слов(а):57.14%\n"
     ]
    }
   ],
   "source": [
    "queries = [\n",
    "\"смотреть сериалы онлайн\",\n",
    "\"новости спорта\",\n",
    "\"афиша кино\",\n",
    "\"курс доллара\",\n",
    "\"сериалы этим летом\",\n",
    "\"курс по питону\",\n",
    "\"сериалы про спорт\",\n",
    "]\n",
    "two_words = 0\n",
    "three_words = 0\n",
    "\n",
    "for query in queries:\n",
    "    a = 0\n",
    "    for symbol in query:\n",
    "        if symbol == \" \":\n",
    "            a = a + 1\n",
    "    if a == 1:\n",
    "        two_words=two_words + 1\n",
    "    else:\n",
    "        three_words=three_words + 1\n",
    "\n",
    "print(f\" Поисковых запросов, содержащих 2 слов(а):{round (two_words / len(queries) * 100 ,2)}%\")       \n",
    "print(f\" Поисковых запросов, содержащих 3 слов(а):{round (three_words / len(queries) * 100 ,2)}%\")       "
   ]
  },
  {
   "cell_type": "code",
   "execution_count": 124,
   "id": "acknowledged-austin",
   "metadata": {},
   "outputs": [
    {
     "name": "stdout",
     "output_type": "stream",
     "text": [
      "{'vk': {'revenue': 103, 'cost': 98, 'ROI': 5.1}, 'yandex': {'revenue': 179, 'cost': 153, 'ROI': 16.99}, 'facebook': {'revenue': 103, 'cost': 110, 'ROI': -6.36}, 'adwords': {'revenue': 35, 'cost': 34, 'ROI': 2.94}, 'twitter': {'revenue': 11, 'cost': 24, 'ROI': -54.17}}\n"
     ]
    }
   ],
   "source": [
    "results = {\n",
    "\"vk\": {\"revenue\": 103, \"cost\": 98},\n",
    "\"yandex\": {\"revenue\": 179, \"cost\": 153},\n",
    "\"facebook\": {\"revenue\": 103, \"cost\": 110},\n",
    "\"adwords\": {\"revenue\": 35, \"cost\": 34},\n",
    "\"twitter\": {\"revenue\": 11, \"cost\": 24},\n",
    "}\n",
    "for i in results.values():\n",
    "        a = round((i[\"revenue\"] / i[\"cost\"] - 1) * 100,2)\n",
    "        i.update({\"ROI\": a})\n",
    "print(results)\n"
   ]
  },
  {
   "cell_type": "code",
   "execution_count": 153,
   "id": "educated-authentication",
   "metadata": {},
   "outputs": [
    {
     "name": "stdout",
     "output_type": "stream",
     "text": [
      "Максимальный объем продаж на рекламном канале: vk\n"
     ]
    }
   ],
   "source": [
    "stats = {\"facebook\": 55, \"yandex\": 115, \"vk\": 120, \"google\": 99, \"email\": 42, \"ok\": 98}\n",
    "for i in stats.values():\n",
    "      if i > k:\n",
    "            k=i\n",
    "for tm, value in stats.items():\n",
    "    if value == k:\n",
    "        print(f\"Максимальный объем продаж на рекламном канале: {tm}\") \n"
   ]
  },
  {
   "cell_type": "code",
   "execution_count": 226,
   "id": "secure-surgery",
   "metadata": {},
   "outputs": [
    {
     "name": "stdout",
     "output_type": "stream",
     "text": [
      "{'2018-01-01': {'yandex': {'cpc': 100}}}\n"
     ]
    }
   ],
   "source": [
    "my_list = [\"2018-01-01\", \"yandex\", \"cpc\", 100]\n",
    "aa = my_list[len(my_list) - 1] \n",
    "for i in reversed(range(len(my_list) - 1 )):\n",
    "         aa={my_list[i]:aa} \n",
    "print(aa)\n"
   ]
  },
  {
   "cell_type": "code",
   "execution_count": null,
   "id": "municipal-remedy",
   "metadata": {},
   "outputs": [],
   "source": []
  },
  {
   "cell_type": "code",
   "execution_count": 387,
   "id": "focal-ordinance",
   "metadata": {},
   "outputs": [
    {
     "name": "stdout",
     "output_type": "stream",
     "text": [
      "Количество персон 1\n",
      "Сыр: 90 гр\n",
      "Томаты: 42 шт\n",
      "Огурцы: 20 гр\n",
      "Маслины: 10 гр\n",
      "Оливковое масло: 20 мл\n",
      "Салат: 10 гр\n",
      "Перец: 20 гр\n",
      "Колбаса: 30 гр\n",
      "Бекон: 30 гр\n",
      "Оливки: 10 гр\n",
      "Тесто: 100 гр\n",
      "Лимон: 1 шт\n",
      "Вода: 200 мл\n",
      "Сахар: 10 гр\n",
      "Лайм: 20 гр\n"
     ]
    }
   ],
   "source": [
    "cook_book = {\n",
    "\"салат\": [\n",
    "{\"ingridient_name\" : \"сыр\" , \"quantity\" : 50, \"measure\" : \"гр\" },\n",
    "{\"ingridient_name\" : \"томаты\" , \"quantity\" : 2, \"measure\" : \"шт\" },\n",
    "{\"ingridient_name\" : \"огурцы\", \"quantity\": 20, \"measure\": \"гр\"},\n",
    "{\"ingridient_name\" : \"маслины\", \"quantity\": 10, \"measure\" : \"гр\"},\n",
    "{\"ingridient_name\" : \"оливковое масло\", \"quantity\": 20, \"measure\": \"мл\"},\n",
    "{\"ingridient_name\" : \"салат\", \"quantity\": 10, \"measure\": \"гр\"},\n",
    "{\"ingridient_name\" : \"перец\", \"quantity\": 20, \"measure\": \"гр\"}]\n",
    ",\n",
    "\"пицца\" : [\n",
    "{\"ingridient_name\" : \"сыр\", \"quantity\": 20, \"measure\": \"гр\"},\n",
    "{\"ingridient_name\" : \"колбаса\", \"quantity\": 30, \"measure\": \"гр\"},\n",
    "{\"ingridient_name\" : \"бекон\", \"quantity\": 30, \"measure\": \"гр\"},\n",
    "{\"ingridient_name\" : \"оливки\", \"quantity\": 10, \"measure\": \"гр\"},\n",
    "{\"ingridient_name\" : \"томаты\", \"quantity\": 20, \"measure\": \"гр\"},\n",
    "{\"ingridient_name\" : \"тесто\", \"quantity\": 100, \"measure\": \"гр\"},\n",
    "],\n",
    "\"лимонад\": [\n",
    "{\"ingridient_name\": \"лимон\", \"quantity\": 1, \"measure\": \"шт\"},\n",
    "{\"ingridient_name\": \"вода\", \"quantity\": 200, \"measure\": \"мл\"},\n",
    "{\"ingridient_name\": \"сахар\", \"quantity\": 10, \"measure\": \"гр\"},\n",
    "{\"ingridient_name\": \"лайм\", \"quantity\": 20, \"measure\": \"гр\"},\n",
    "]\n",
    "}\n",
    "\n",
    "persons = int(input(\"Количество персон \"))\n",
    "items = []  #пустой список, сюда будем записывать все ингредиенты, какие есть\n",
    "unique_items = {} #пустой словарь, сюда зпишем уникальные игредиенты, если встречаются несколько раз - сумма по количеству\n",
    "measure = {} #пустой словарь, сюда запишем соотвествие ингредиента и единицы измерения\n",
    "\n",
    "for i in cook_book.items():\n",
    "    for k in i[1]:\n",
    "        a,b,c = k.values()\n",
    "        b = b * persons\n",
    "        items.append(k.values())             \n",
    "for item in items:  \n",
    "    a,b,c = item\n",
    "    if a not in unique_items.keys():#если ингр. ранее не встречался, записываем его в словарь\n",
    "        unique_items.update({a:b}) \n",
    "        measure.update({a:c})    #заодно делаем словарь ингредиент - единица измерения\n",
    "    else:                         \n",
    "        b = b + dd.get(a)          #если встречаем ингредиент, который ранее уже был, апдейтим словарь с новым значением\n",
    "        unique_items.update({a:b})     \n",
    "for m in unique_items.items():\n",
    "    a,b = m\n",
    "    print(f\"{a.capitalize()}: {b * persons} {measure.get(a)}\")"
   ]
  },
  {
   "cell_type": "code",
   "execution_count": null,
   "id": "taken-appearance",
   "metadata": {},
   "outputs": [],
   "source": []
  }
 ],
 "metadata": {
  "kernelspec": {
   "display_name": "Python 3",
   "language": "python",
   "name": "python3"
  },
  "language_info": {
   "codemirror_mode": {
    "name": "ipython",
    "version": 3
   },
   "file_extension": ".py",
   "mimetype": "text/x-python",
   "name": "python",
   "nbconvert_exporter": "python",
   "pygments_lexer": "ipython3",
   "version": "3.8.5"
  }
 },
 "nbformat": 4,
 "nbformat_minor": 5
}
