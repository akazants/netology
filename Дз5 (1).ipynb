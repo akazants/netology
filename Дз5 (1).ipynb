{
 "cells": [
  {
   "cell_type": "markdown",
   "id": "celtic-guess",
   "metadata": {},
   "source": [
    "Переведите содержимое файла purchase_log.txt в словарь purchases вида:\n",
    "{‘1840e0b9d4’: ‘Продукты’, …}"
   ]
  },
  {
   "cell_type": "code",
   "execution_count": 156,
   "id": "scenic-orientation",
   "metadata": {},
   "outputs": [],
   "source": [
    "import zipfile\n",
    "import json\n",
    "purchase_log = zipfile.ZipFile(\"/root/Downloads.zip\")\n",
    "purchase_log.extractall(\"/root\")\n",
    "purchase_log.close()\n",
    "purchases = {}\n",
    "with open ('purchase_log.txt') as f:\n",
    "    for line in f:\n",
    "        line=line.strip()\n",
    "        dict_=json.loads(line)\n",
    "        purchases.update({dict_.get('user_id'):dict_.get('category')})\n",
    "\n"
   ]
  },
  {
   "cell_type": "markdown",
   "id": "different-private",
   "metadata": {},
   "source": [
    "Для каждого user_id в файле visit_log.csv определите третий столбец с категорией покупки (если покупка была, сам файл visit_log.csv изменять не надо). Запишите в файл funnel.csv визиты из файла visit_log.csv, в которых были покупки с указанием категории.\n",
    "Учтите условия на данные:\n",
    "содержимое purchase_log.txt помещается в оперативную память компьютера\n",
    "содержимое visit_log.csv - нет; используйте только построчную обработку этого файла"
   ]
  },
  {
   "cell_type": "code",
   "execution_count": 162,
   "id": "optimum-attitude",
   "metadata": {},
   "outputs": [],
   "source": [
    "with open ('visit_log.csv', \"r\") as visit: #открываем визит лог на чтение\n",
    "      with open (\"funnel.csv\", \"w\") as funnel: #новый файл на запись\n",
    "            for line in visit:\n",
    "                    line=line.strip().split(\",\")\n",
    "                    if line[0] in purchases:\n",
    "                        line.append(purchases.get(line[0]))\n",
    "                        funnel.write(str(line)+\"\\n\")     "
   ]
  }
 ],
 "metadata": {
  "kernelspec": {
   "display_name": "Python 3",
   "language": "python",
   "name": "python3"
  },
  "language_info": {
   "codemirror_mode": {
    "name": "ipython",
    "version": 3
   },
   "file_extension": ".py",
   "mimetype": "text/x-python",
   "name": "python",
   "nbconvert_exporter": "python",
   "pygments_lexer": "ipython3",
   "version": "3.8.5"
  }
 },
 "nbformat": 4,
 "nbformat_minor": 5
}
