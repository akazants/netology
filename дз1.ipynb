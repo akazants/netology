{
 "cells": [
  {
   "cell_type": "code",
   "execution_count": 4,
   "id": "entitled-adobe",
   "metadata": {},
   "outputs": [
    {
     "name": "stdout",
     "output_type": "stream",
     "text": [
      "Фраза 1 длиннее фразы 2\n"
     ]
    }
   ],
   "source": [
    "phrase_1 =  \"Насколько проще было бы писать программы, если бы не заказчики\"\n",
    "phrase_2 = \"640Кб должно хватить для любых задач. Билл Гейтс (по легенде)\"\n",
    "if len(phrase_1)>len(phrase_2) :\n",
    "    print (\"Фраза 1 длиннее фразы 2\")\n",
    "    \n",
    "\n",
    "    "
   ]
  },
  {
   "cell_type": "code",
   "execution_count": 13,
   "id": "meaningful-architect",
   "metadata": {},
   "outputs": [
    {
     "name": "stdout",
     "output_type": "stream",
     "text": [
      "Обычный год\n"
     ]
    }
   ],
   "source": [
    "year = 2019\n",
    "if year%4 == 0:\n",
    "    print (\"Високосный год\") \n",
    "else:\n",
    "    print (\"Обычный год\")"
   ]
  },
  {
   "cell_type": "code",
   "execution_count": 18,
   "id": "sophisticated-fourth",
   "metadata": {},
   "outputs": [
    {
     "name": "stdout",
     "output_type": "stream",
     "text": [
      "Введите день\n",
      "19\n",
      "Введите месяц\n",
      "апа\n",
      "Результат:\n",
      "Месяц написан неправильно, пиши так: Март\n"
     ]
    }
   ],
   "source": [
    "print(\"Введите день\")\n",
    "den = int(input())  \n",
    "print(\"Введите месяц\")\n",
    "mesyac = input() \n",
    "print(\"Результат:\")\n",
    "if mesyac == \"Март\":\n",
    "    if den >=21 and den <=31:\n",
    "        print (\"Ваш знак зодиака: Овен\")\n",
    "    elif den>=1 and den <21:\n",
    "        print (\"Ваш знак зодиака: Рыбы\")\n",
    "    else:\n",
    "        print (\"В марте нет такого числа\")\n",
    "elif mesyac == \"Апрель\":\n",
    "    if den >=21 and den <=30:\n",
    "        print (\"Ваш знак зодиака: Телец\")\n",
    "    elif den>=1 and den <21:\n",
    "        print (\"Ваш знак зодиака: Овен\")\n",
    "    else:\n",
    "        print (\"В апреле нет такого числа\")\n",
    "elif mesyac == \"Май\":\n",
    "    if den >=22 and den <=31:\n",
    "        print (\"Ваш знак зодиака: Близнецы\")\n",
    "    elif den>=1 and den <22:\n",
    "        print (\"Ваш знак зодиака: Телец\")\n",
    "    else:\n",
    "        print (\"В мае нет такого числа\")\n",
    "elif mesyac == \"Июнь\":\n",
    "    if den >=22 and den <=30:\n",
    "        print (\"Ваш знак зодиака: Рак\")\n",
    "    elif den>=1 and den <22:\n",
    "        print (\"Ваш знак зодиака: Близнецы\")\n",
    "    else:\n",
    "        print (\"В Июне нет такого числа\")\n",
    "elif mesyac == \"Июль\":\n",
    "    if den >=23 and den <=31:\n",
    "        print (\"Ваш знак зодиака: Лев\")\n",
    "    elif den>=1 and den <23:\n",
    "        print (\"Ваш знак зодиака: Рак\")\n",
    "    else:\n",
    "        print (\"В Июле нет такого числа\")    \n",
    "elif mesyac == \"Август\":\n",
    "    if den >=22 and den <=31:\n",
    "        print (\"Ваш знак зодиака: Дева\")\n",
    "    elif den>=1 and den <22:\n",
    "        print (\"Ваш знак зодиака: Лев\")\n",
    "    else:\n",
    "        print (\"В Августе нет такого числа\") \n",
    "elif mesyac == \"Сентябрь\":\n",
    "    if den >=24 and den <=30:\n",
    "        print (\"Ваш знак зодиака: Весы\")\n",
    "    elif den>=1 and den <24:\n",
    "        print (\"Ваш знак зодиака: Дева\")\n",
    "    else:\n",
    "        print (\"В Сентябре нет такого числа\")      \n",
    "elif mesyac == \"Октябрь\":\n",
    "    if den >=24 and den <=31:\n",
    "        print (\"Ваш знак зодиака: Скорпион\")\n",
    "    elif den>=1 and den <24:\n",
    "        print (\"Ваш знак зодиака: Весы\")\n",
    "    else:\n",
    "        print (\"В Октябре нет такого числа\")           \n",
    "elif mesyac == \"Ноябрь\":\n",
    "    if den >=23 and den <=30:\n",
    "        print (\"Ваш знак зодиака: Стрелец\")\n",
    "    elif den>=1 and den <23:\n",
    "        print (\"Ваш знак зодиака: Скорпион\")\n",
    "    else:\n",
    "        print (\"В Ноябре нет такого числа\") \n",
    "elif mesyac == \"Декабрь\":\n",
    "    if den >=23 and den <=31:\n",
    "        print (\"Ваш знак зодиака: Козерог\")\n",
    "    elif den>=1 and den <23:\n",
    "        print (\"Ваш знак зодиака: Стрелец\")\n",
    "    else:\n",
    "        print (\"В Декабре нет такого числа\")  \n",
    "elif mesyac == \"Январь\":\n",
    "    if den >=21 and den <=31:\n",
    "        print (\"Ваш знак зодиака: Водолей\")\n",
    "    elif den>=1 and den <21:\n",
    "        print (\"Ваш знак зодиака: Козерог\")\n",
    "    else:\n",
    "        print (\"В Январе нет такого числа\")     \n",
    "elif mesyac == \"Февраль\":\n",
    "    if den >=20 and den <=29:\n",
    "        print (\"Ваш знак зодиака: Рыбы\")\n",
    "    elif den>=1 and den <20:\n",
    "        print (\"Ваш знак зодиака: Водолей\")\n",
    "    else:\n",
    "        print (\"В Феврале нет такого числа\")\n",
    "else:\n",
    "    print (\"Месяц написан неправильно, пиши так: Март\")"
   ]
  },
  {
   "cell_type": "code",
   "execution_count": 19,
   "id": "banner-polls",
   "metadata": {},
   "outputs": [
    {
     "name": "stdout",
     "output_type": "stream",
     "text": [
      "Упаковка для лыж\n"
     ]
    }
   ],
   "source": [
    "width = 10\n",
    "length = 205\n",
    "height = 5\n",
    "if width <15 and length<15 and height<15 :\n",
    "    print(\"Коробка №1\")\n",
    "elif  (width >15 and width <50) or   (length >15 and length <50) or (height >15 and height <50):\n",
    "    print(\"Коробка №2\")\n",
    "elif length > 200:\n",
    "    print(\"Упаковка для лыж\")\n",
    "else:\n",
    "    print(\"Стандартная коробка №3\")"
   ]
  },
  {
   "cell_type": "code",
   "execution_count": 22,
   "id": "hindu-heaven",
   "metadata": {},
   "outputs": [
    {
     "name": "stdout",
     "output_type": "stream",
     "text": [
      "Результат\n",
      "Cчастливый билет\n"
     ]
    }
   ],
   "source": [
    "number = 123123\n",
    "str_number = str(number)\n",
    "print(\"Результат\")\n",
    "if int(str_number[0])+int(str_number[1])+int(str_number[2])==int(str_number[3])+int(str_number[4])+int(str_number[5]):\n",
    "    print(\"Cчастливый билет\")\n",
    "else:\n",
    "    print(\"Несчастливый билет\")"
   ]
  },
  {
   "cell_type": "code",
   "execution_count": 26,
   "id": "cellular-agreement",
   "metadata": {},
   "outputs": [
    {
     "name": "stdout",
     "output_type": "stream",
     "text": [
      "Введите тип фигуры\n",
      "треугольник\n",
      "Введите длину стороны А\n",
      "2\n",
      "Введите длину стороны B\n",
      "2\n",
      "Введите длину стороны С\n",
      "3\n",
      "Площадь треугольника =\n",
      "1.984313483298443\n"
     ]
    }
   ],
   "source": [
    "print(\"Введите тип фигуры\")\n",
    "figure = input()  \n",
    "if figure == \"круг\":\n",
    "    print(\"Введите радиус круга\")\n",
    "    rad = int(input())\n",
    "    sq = 3.14*(rad**2)\n",
    "    print(\"Площадь круга =\")\n",
    "    print(sq) \n",
    "elif figure == \"прямоугольник\":\n",
    "    print(\"Введите длину стороны А\")\n",
    "    len_a=int( input())\n",
    "    print(\"Введите длину стороны B\")\n",
    "    len_b=int(input())\n",
    "    sq = len_a*len_b\n",
    "    print(\"Площадь прямоугольника =\")\n",
    "    print(sq)\n",
    "elif figure == \"треугольник\":\n",
    "    print(\"Введите длину стороны А\")\n",
    "    len_a=int(input())\n",
    "    print(\"Введите длину стороны B\")\n",
    "    len_b=int(input())\n",
    "    print(\"Введите длину стороны С\")\n",
    "    len_c=int(input()) \n",
    "    poluperimetr=(len_a+len_b+len_c)/2\n",
    "    sq=(poluperimetr*(poluperimetr-len_a)*(poluperimetr-len_b)*(poluperimetr-len_c))**(1/2)\n",
    "    print(\"Площадь треугольника =\")\n",
    "    print(sq)\n",
    "else:\n",
    "    print(\"фигура не в списке\")\n",
    "    \n",
    "    "
   ]
  }
 ],
 "metadata": {
  "kernelspec": {
   "display_name": "Python 3",
   "language": "python",
   "name": "python3"
  },
  "language_info": {
   "codemirror_mode": {
    "name": "ipython",
    "version": 3
   },
   "file_extension": ".py",
   "mimetype": "text/x-python",
   "name": "python",
   "nbconvert_exporter": "python",
   "pygments_lexer": "ipython3",
   "version": "3.8.5"
  }
 },
 "nbformat": 4,
 "nbformat_minor": 5
}
